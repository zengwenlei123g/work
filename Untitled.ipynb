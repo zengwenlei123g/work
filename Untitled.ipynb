{
 "cells": [
  {
   "cell_type": "code",
   "execution_count": 1,
   "metadata": {},
   "outputs": [
    {
     "name": "stdout",
     "output_type": "stream",
     "text": [
      "True /api/sys/login 200 0 success {'code': 0, 'message': 'success'} \n"
     ]
    }
   ],
   "source": [
    "import requests\n",
    "import json\n",
    "import time\n",
    "home_url = 'http://192.168.163.1'\n",
    "def show_resp(resp):\n",
    "    if resp.status_code == 200:\n",
    "        js = json.loads(resp.text)\n",
    "        print(js['code'], js['message'])\n",
    "        if 'data' in js:\n",
    "            print(js['data'])\n",
    "\n",
    "def assert_get_header_code(url, code):\n",
    "    r = requests.get(home_url + url)\n",
    "    print(r.status_code == code, r.status_code,\n",
    "          url)\n",
    "    return r.status_code == code\n",
    "\n",
    "def assert_get_body_code(url, code):\n",
    "    r = requests.get(home_url + url)\n",
    "    if r.status_code == 200:\n",
    "        js = json.loads(r.text)\n",
    "        print(js['code']==code,\n",
    "              url,\n",
    "              r.status_code,\n",
    "              js['code'],\n",
    "              js['message'],\n",
    "             'data' in js and js['data'] or '')\n",
    "#         return (r.status_code==200) and (js['code']==code)\n",
    "    else:\n",
    "        print(url,\n",
    "              False,\n",
    "              r.status_code)\n",
    "\n",
    "def assert_post_header_code(url, code, payloads=None):\n",
    "    r = requests.post(home_url + url, data=payloads)\n",
    "    print(url, r.status_code == code, r.status_code)\n",
    "    return r.status_code == code\n",
    "\n",
    "def assert_post_body(url, code, message, payloads=None):\n",
    "    r = requests.post(home_url + url, data=payloads)\n",
    "    if r.status_code == 200:\n",
    "        js = json.loads(r.text)\n",
    "        print((js['code']==code) and (js['message']==message),\n",
    "              url,\n",
    "              r.status_code,\n",
    "              js['code'],\n",
    "             js['message'],\n",
    "              js,\n",
    "             'data' in js and js['data'] or '')\n",
    "#         return (r.status_code==200) and (js['code']==code)\n",
    "    else:\n",
    "        print(False,\n",
    "              url,\n",
    "              r.status_code)\n",
    "assert_post_body('/api/sys/login', 0, 'success', payloads={ \"username\": \"uu\", \"password\": \"UU123456\"}) #登录"
   ]
  },
  {
   "cell_type": "code",
   "execution_count": 2,
   "metadata": {},
   "outputs": [
    {
     "name": "stdout",
     "output_type": "stream",
     "text": [
      "True /api/wan 200 0 success {'type': 'static'}\n"
     ]
    }
   ],
   "source": [
    "assert_get_body_code('/api/wan', 0) #获取当前WAN口连接方式"
   ]
  },
  {
   "cell_type": "code",
   "execution_count": 3,
   "metadata": {},
   "outputs": [
    {
     "name": "stdout",
     "output_type": "stream",
     "text": [
      "True /api/repeater 200 0 success {'code': 0, 'message': 'success'} \n"
     ]
    }
   ],
   "source": [
    "assert_post_body('/api/repeater', 0, 'success', payloads={ \"enable\":\"1\",\"ssid\": \"UU_0000zzz\", \"password\": \"UU123456\"}) #enable repeater"
   ]
  },
  {
   "cell_type": "code",
   "execution_count": 4,
   "metadata": {},
   "outputs": [
    {
     "name": "stdout",
     "output_type": "stream",
     "text": [
      "False /api/repeater 500\n"
     ]
    }
   ],
   "source": [
    "assert_post_body('/api/repeater', 0, 'success', payloads={ \"enable\":\"0\"}) #disable repeater"
   ]
  },
  {
   "cell_type": "code",
   "execution_count": 3,
   "metadata": {},
   "outputs": [
    {
     "name": "stdout",
     "output_type": "stream",
     "text": [
      "True /api/sys/set_user_password 200 0 success {'code': 0, 'message': 'success'} \n"
     ]
    }
   ],
   "source": [
    "assert_post_body('/api/sys/set_user_password', 0, 'success', payloads={ \"username\": \"uu\", \"password\": \"87654321\"})  #设置登录名和密码"
   ]
  },
  {
   "cell_type": "code",
   "execution_count": 15,
   "metadata": {},
   "outputs": [
    {
     "name": "stdout",
     "output_type": "stream",
     "text": [
      "True /api/sys/logout 200 0 success {'code': 0, 'message': 'success'} \n",
      "True /api/sys/login 200 0 success {'code': 0, 'message': 'success'} \n",
      "True /api/sys/logout 200 0 success {'code': 0, 'message': 'success'} \n",
      "True /api/sys/login 200 0 success {'code': 0, 'message': 'success'} \n"
     ]
    }
   ],
   "source": [
    "for i in range(2):\n",
    "    assert_post_body('/api/sys/logout', 0, 'success') #登出\n",
    "    assert_post_body('/api/sys/login', 0, 'success', payloads={ \"username\": \"uu\", \"password\": \"UU123456\"}) #登录"
   ]
  },
  {
   "cell_type": "code",
   "execution_count": 12,
   "metadata": {},
   "outputs": [
    {
     "name": "stdout",
     "output_type": "stream",
     "text": [
      "True /api/sys/login 200 0 success {'code': 0, 'message': 'success'} \n"
     ]
    }
   ],
   "source": [
    "assert_post_body('/api/sys/login', 0, 'success', payloads={ \"username\": \"uu\", \"password\": \"UU123456\"}) #登录"
   ]
  },
  {
   "cell_type": "code",
   "execution_count": 14,
   "metadata": {},
   "outputs": [
    {
     "name": "stdout",
     "output_type": "stream",
     "text": [
      "True /api/get_version 200 0 success {'fwVersion': 'uu_1.0_beta5_1101'}\n"
     ]
    }
   ],
   "source": [
    "assert_get_body_code('/api/get_version',0)"
   ]
  },
  {
   "cell_type": "code",
   "execution_count": null,
   "metadata": {},
   "outputs": [],
   "source": []
  }
 ],
 "metadata": {
  "kernelspec": {
   "display_name": "Python 3",
   "language": "python",
   "name": "python3"
  },
  "language_info": {
   "codemirror_mode": {
    "name": "ipython",
    "version": 3
   },
   "file_extension": ".py",
   "mimetype": "text/x-python",
   "name": "python",
   "nbconvert_exporter": "python",
   "pygments_lexer": "ipython3",
   "version": "3.7.0"
  }
 },
 "nbformat": 4,
 "nbformat_minor": 2
}
